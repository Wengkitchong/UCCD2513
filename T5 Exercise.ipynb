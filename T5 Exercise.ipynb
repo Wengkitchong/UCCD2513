{
 "cells": [
  {
   "cell_type": "code",
   "execution_count": 7,
   "id": "9ee6ca5b",
   "metadata": {},
   "outputs": [],
   "source": [
    "import sys\n",
    "assert sys.version_info >=(3, 7)\n",
    "import numpy as np\n",
    "import cv2 as cv\n",
    "from util_func import *\n",
    "import imutils\n",
    "img = cv.imread(\"images/lena.jfif\")\n",
    "h,w = img.shape[:2]\n",
    "\n",
    "angle = 45\n",
    "\n",
    "rotate = imutils.rotate_bound(img, angle)\n",
    "show_img(\"rotation\",rotate)"
   ]
  },
  {
   "cell_type": "code",
   "execution_count": 11,
   "id": "6f386c87",
   "metadata": {},
   "outputs": [],
   "source": [
    "img1 = cv.imread('images/native-bee.png')\n",
    "img2 = cv.imread('images/flower.jfif')\n",
    "rows,cols,channels = img2.shape\n",
    "roi = img1[0:rows, 0:cols]\n",
    "img2gray = cv.cvtColor(img2,cv.COLOR_BGR2GRAY)\n",
    "ret, mask = cv.threshold(img2gray, 80, 255, cv.THRESH_BINARY)\n",
    "mask_inv = cv.bitwise_not(mask)\n",
    "\n",
    "img1_bg = cv.bitwise_and(roi,roi,mask = mask_inv)\n",
    "img2_fg = cv.bitwise_and(img2,img2,mask = mask)\n",
    "dst = cv.add(img1_bg,img2_fg)\n",
    "img1[0:rows, 0:cols ] = dst\n",
    "\n",
    "cv.imshow('res',img1)\n",
    "cv.waitKey(0)\n",
    "cv.destroyAllWindows()"
   ]
  },
  {
   "cell_type": "code",
   "execution_count": 12,
   "id": "acc9cc2c",
   "metadata": {},
   "outputs": [],
   "source": [
    "kernel = np.zeros((3,3))\n",
    "kernel[0,1]=-1\n",
    "kernel[1,0]=-1\n",
    "kernel[1,2]=-1\n",
    "kernel[2,1]=-1\n",
    "kernel[1,1]=5\n",
    "\n",
    "\n",
    "img =cv.imread(\"images/native-bee.png\")\n",
    "dst=cv.filter2D(img,-1,kernel)\n",
    "cv.imshow(\"original\",img)\n",
    "show_img(\"kernel\",dst)\n",
    "##The image is sharpened at just the right amount"
   ]
  },
  {
   "cell_type": "code",
   "execution_count": 13,
   "id": "36c2c6b7",
   "metadata": {},
   "outputs": [],
   "source": [
    "kernel=np.ones((5,5))\n",
    "kernel *= -1\n",
    "kernel[2,2]=25\n",
    "img =cv.imread(\"images/native-bee.png\")\n",
    "dst=cv.filter2D(img,-1,kernel)\n",
    "cv.imshow(\"original\",img)\n",
    "show_img(\"kernel\",dst)\n",
    "## The image is overly sharpened and it ruins the image"
   ]
  },
  {
   "cell_type": "code",
   "execution_count": null,
   "id": "22d2e540",
   "metadata": {},
   "outputs": [],
   "source": [
    "img = cv.imread('images/noise_lena.jpg')\n",
    "blur = cv.blur(img, (3, 3))\n",
    "gaussian = cv.GaussianBlur(img, (3, 3), sigmaX=0)\n",
    "median = cv.medianBlur(img, 3)\n",
    "cv.imshow(\"img\", img)\n",
    "cv.imshow(\"blur\", blur)\n",
    "cv.imshow(\"gaussian\", gaussian)\n",
    "cv.imshow(\"median\", median)\n",
    "\n",
    "cv.waitKey(0)\n",
    "cv.destroyAllWindows()\n",
    "##The original bluring and the gaussian blurringis identical which it makes the image blurry but it does not lose any of its noise\n",
    "##The median bluring did not blur the image and it loses the noise of the image "
   ]
  },
  {
   "cell_type": "code",
   "execution_count": null,
   "id": "ad552e65",
   "metadata": {},
   "outputs": [],
   "source": []
  }
 ],
 "metadata": {
  "kernelspec": {
   "display_name": "Python 3 (ipykernel)",
   "language": "python",
   "name": "python3"
  },
  "language_info": {
   "codemirror_mode": {
    "name": "ipython",
    "version": 3
   },
   "file_extension": ".py",
   "mimetype": "text/x-python",
   "name": "python",
   "nbconvert_exporter": "python",
   "pygments_lexer": "ipython3",
   "version": "3.9.12"
  }
 },
 "nbformat": 4,
 "nbformat_minor": 5
}
