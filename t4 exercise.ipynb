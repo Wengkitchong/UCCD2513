{
 "cells": [
  {
   "cell_type": "code",
   "execution_count": 6,
   "id": "b668c204",
   "metadata": {},
   "outputs": [],
   "source": [
    "import sys\n",
    "import cv2 as cv\n",
    "img1 = cv.imread(\"images/lena.jfif\")\n",
    "img2 = cv.imread(\"images/coins.jfif\")\n",
    "\n",
    "new_shape = img1.shape[:2]\n",
    "img2 = cv.resize(img2, new_shape[::-1])\n",
    "x,y=1,0\n",
    "for i in range(11):\n",
    "        img_trans = cv.addWeighted(img1, x, img2, y, 0)\n",
    "        cv.imshow('transition', img_trans)\n",
    "        x=x-0.1\n",
    "        y=y+0.1\n",
    "        cv.waitKey(0)\n",
    "        cv.destroyAllWindows()\n",
    "    \n"
   ]
  },
  {
   "cell_type": "code",
   "execution_count": 8,
   "id": "1ae5e2b3",
   "metadata": {},
   "outputs": [],
   "source": [
    "image = cv.imread(\"images/travel_hd.jpg\")\n",
    "\n",
    "watermark = cv.putText(image, \"UCCD2513\", (50,image.shape[0]-50), cv.FONT_HERSHEY_SIMPLEX,10, (255,255,255), 20, cv.LINE_AA)\n",
    "cv.imwrite('watermark.jpg', watermark)\n",
    "cv.waitKey(0)\n",
    "cv.destroyAllWindows()\n"
   ]
  },
  {
   "cell_type": "code",
   "execution_count": null,
   "id": "814699a5",
   "metadata": {},
   "outputs": [],
   "source": []
  }
 ],
 "metadata": {
  "kernelspec": {
   "display_name": "Python 3 (ipykernel)",
   "language": "python",
   "name": "python3"
  },
  "language_info": {
   "codemirror_mode": {
    "name": "ipython",
    "version": 3
   },
   "file_extension": ".py",
   "mimetype": "text/x-python",
   "name": "python",
   "nbconvert_exporter": "python",
   "pygments_lexer": "ipython3",
   "version": "3.9.12"
  }
 },
 "nbformat": 4,
 "nbformat_minor": 5
}
