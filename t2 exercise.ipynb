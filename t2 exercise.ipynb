{
 "cells": [
  {
   "cell_type": "code",
   "execution_count": 4,
   "id": "03578d1a",
   "metadata": {},
   "outputs": [
    {
     "data": {
      "image/png": "[encoded data removed]",
      "text/plain": [
       "<Figure size 432x288 with 1 Axes>"
      ]
     },
     "metadata": {},
     "output_type": "display_data"
    }
   ],
   "source": [
    "import numpy as np\n",
    "import matplotlib.pyplot as plt\n",
    "radius=75\n",
    "square=200\n",
    "circle=np.zeros((square,square))\n",
    "center=square/2\n",
    "\n",
    "for i in range(int(center-radius),int(center+radius+1),1): #x^2+y^2=r^2\n",
    "    for j in range(int(center-radius),int(center+radius+1),1):\n",
    "        if(i-center)**2+(j-center)**2<=float(radius**2):   \n",
    "            circle[i][j]=255\n",
    "    \n",
    "plt.imshow(circle , cmap=plt.cm.gray)\n",
    "plt.title(\"White circle with black background\")\n",
    "plt.xticks([]),plt.yticks([])\n",
    "\n",
    "plt.show()\n"
   ]
  },
  {
   "cell_type": "code",
   "execution_count": 7,
   "id": "0702a407",
   "metadata": {},
   "outputs": [
    {
     "name": "stdout",
     "output_type": "stream",
     "text": [
      "[ 0  1  2  3 25 25 25  7  8  9]\n",
      "[-1 25 25]\n"
     ]
    }
   ],
   "source": [
    "my_arr=np.arange(10)\n",
    "my_arr[4:7]=25\n",
    "#arr_slice=my_arr[4:7]\n",
    "#arr_slice[0]=-1\n",
    "\n",
    "#print(my_arr)\n",
    "#print(arr_slice)\n",
    "#[ 0  1  2  3 -1 25 25  7  8  9]\n",
    "#[-1 25 25]\n",
    "\n",
    "arr_slice=np.copy(my_arr[4:7])\n",
    "arr_slice[0]=-1\n",
    "print(my_arr)\n",
    "print(arr_slice)\n",
    "#[ 0  1  2  3 25 25 25  7  8  9]\n",
    "#[-1 25 25]"
   ]
  },
  {
   "cell_type": "code",
   "execution_count": null,
   "id": "d7ab1413",
   "metadata": {},
   "outputs": [],
   "source": []
  },
  {
   "cell_type": "code",
   "execution_count": null,
   "id": "4c81a82e",
   "metadata": {},
   "outputs": [],
   "source": []
  }
 ],
 "metadata": {
  "kernelspec": {
   "display_name": "Python 3 (ipykernel)",
   "language": "python",
   "name": "python3"
  },
  "language_info": {
   "codemirror_mode": {
    "name": "ipython",
    "version": 3
   },
   "file_extension": ".py",
   "mimetype": "text/x-python",
   "name": "python",
   "nbconvert_exporter": "python",
   "pygments_lexer": "ipython3",
   "version": "3.9.12"
  }
 },
 "nbformat": 4,
 "nbformat_minor": 5
}
