{
 "cells": [
  {
   "cell_type": "code",
   "execution_count": 11,
   "id": "8142404f",
   "metadata": {},
   "outputs": [],
   "source": [
    "import sys\n",
    "\n",
    "#Mininum Python 3.7\n",
    "assert sys.version_info >= (3,7)\n",
    "\n",
    "import numpy as np\n",
    "import cv2 as cv\n",
    "\n",
    "cap = cv.VideoCapture(\"videos/img_pexels.mp4\")\n",
    "if not cap.isOpened():\n",
    "    sys.exit(\"The video filepath is not correct\")\n",
    "\n",
    "new_height = int(1920/5)\n",
    "new_width = int(1080/5)\n",
    "video = cv.VideoWriter(\"smaller_img_pexels.mp4\", cv.VideoWriter_fourcc(*\"mp4v\") , 20, (new_width, new_height))\n",
    "cv.namedWindow(\"frame\", cv.WINDOW_NORMAL)\n",
    "while True:\n",
    "    ret, frame= cap.read()\n",
    "    if not ret:\n",
    "        print(\"No frame received\")\n",
    "        break\n",
    "\n",
    "    new_frame = cv.resize(frame, (new_width, new_height))\n",
    "    video.write(new_frame)\n",
    "    cv.imshow(\"frame\",new_frame)\n",
    "    k = cv.waitKey(1) &0xFF\n",
    "    if k == 27:\n",
    "        break\n",
    "cap.release()\n",
    "video.release() \n",
    "cv.destroyAllWindows()"
   ]
  },
  {
   "cell_type": "code",
   "execution_count": 3,
   "id": "1d4a3aa7",
   "metadata": {},
   "outputs": [],
   "source": [
    "def show_img(window_name, img):\n",
    "    cv.imshow(window_name, img)\n",
    "    cv.waitKey(0)\n",
    "    cv.destroyAllWindows()\n",
    "    \n",
    "img = cv.imread(\"images/dog.jfif\")\n",
    "new_width=img.shape[1]*5\n",
    "new_height=img.shape[0]*5\n",
    "img_resize = cv.resize(img, (new_width, new_height),interpolation=cv.INTER_LINEAR)\n",
    "img_resize1 = cv.resize(img, (new_width,new_height) ,interpolation=cv.INTER_CUBIC)\n",
    "img_resize2 = cv.resize(img, (new_width,new_height) ,interpolation=cv.INTER_NEAREST)\n",
    "\n",
    "show_img(\"resize\", img_resize)\n",
    "show_img(\"resize1\",img_resize1)\n",
    "show_img(\"resize2\",img_resize2)\n",
    "\n",
    "\n",
    "\n",
    "## the image become more and more pixelated from linear interpolation to cubic interpolation and nearest neighbour interpolation"
   ]
  },
  {
   "cell_type": "code",
   "execution_count": null,
   "id": "9a6ad55a",
   "metadata": {},
   "outputs": [],
   "source": []
  }
 ],
 "metadata": {
  "kernelspec": {
   "display_name": "Python 3 (ipykernel)",
   "language": "python",
   "name": "python3"
  },
  "language_info": {
   "codemirror_mode": {
    "name": "ipython",
    "version": 3
   },
   "file_extension": ".py",
   "mimetype": "text/x-python",
   "name": "python",
   "nbconvert_exporter": "python",
   "pygments_lexer": "ipython3",
   "version": "3.9.12"
  }
 },
 "nbformat": 4,
 "nbformat_minor": 5
}
